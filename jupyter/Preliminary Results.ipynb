{
 "cells": [
  {
   "cell_type": "code",
   "execution_count": 1,
   "id": "802d4bfe-2a55-4542-814e-d9083fa8ae39",
   "metadata": {},
   "outputs": [],
   "source": [
    "import pandas as pd\n",
    "from elasticsearch import Elasticsearch\n",
    "import elasticsearch.helpers\n",
    "import matplotlib.pyplot as plt\n",
    "from datetime import datetime\n",
    "import pytz\n",
    "\n",
    "utc=pytz.UTC\n",
    "\n",
    "# Elastic search query code: https://stackoverflow.com/a/56094205\n",
    "es = Elasticsearch('elasticsearch', port=9200)\n",
    "\n",
    "body={\"query\": {\"match_all\": {}}}"
   ]
  },
  {
   "cell_type": "markdown",
   "id": "e7fe3279-5e12-4323-89c7-93dae68bf729",
   "metadata": {},
   "source": [
    "# Figure 3 - Issues Count"
   ]
  },
  {
   "cell_type": "code",
   "execution_count": 2,
   "id": "0bf5a52c-f52b-4efb-9ce1-bb902a73e3c6",
   "metadata": {},
   "outputs": [],
   "source": [
    "results = elasticsearch.helpers.scan(es, query=body, index=\"gitter_enriched_raw\")\n",
    "df_gitter_enriched_raw = pd.DataFrame.from_dict([document['_source'] for document in results])"
   ]
  },
  {
   "cell_type": "code",
   "execution_count": 3,
   "id": "f423294f-6272-465c-9f9d-b5e61a11c72f",
   "metadata": {},
   "outputs": [],
   "source": [
    "# Retrieve number of issues referred to in each Gitter message\n",
    "rows = []\n",
    "\n",
    "for i,g in df_gitter_enriched_raw.groupby('project'):\n",
    "    numbers = set()\n",
    "    issues_count = 0\n",
    "    repo_type = {\n",
    "        'repo': i,\n",
    "        'issues_count': 0,\n",
    "        'parent': 0,\n",
    "        'foreign': 0,\n",
    "        'project': 0\n",
    "    }\n",
    "    for i2, g2 in g[g.issues.astype(bool)].iterrows():\n",
    "        repo_type['issues_count'] += len(g2.issues)\n",
    "        issues_count += len(g2.issues)\n",
    "        for item in g2.issues:\n",
    "            if 'number' in item.keys():\n",
    "                numbers.add(item['number'])\n",
    "            if 'repo_type' in item.keys():\n",
    "                repo_type[item['repo_type']] += 1\n",
    "                \n",
    "    rows.append(repo_type)"
   ]
  },
  {
   "cell_type": "code",
   "execution_count": 4,
   "id": "9ed08ade-0bed-45e8-9fb5-f82ac3137a3f",
   "metadata": {},
   "outputs": [],
   "source": [
    "griomire_lab_issues_count = pd.DataFrame(rows)\n",
    "griomire_lab_issues_count['short_name'] = griomire_lab_issues_count['repo'].apply(lambda x: x.split('/')[-1])\n",
    "griomire_lab_issues_count = griomire_lab_issues_count.sort_values(by=['short_name'], key=lambda col: col.str.lower())"
   ]
  },
  {
   "cell_type": "code",
   "execution_count": 5,
   "id": "06393450-34c7-4264-9054-0b7f80fb01fd",
   "metadata": {},
   "outputs": [
    {
     "data": {
      "text/html": [
       "<div>\n",
       "<style scoped>\n",
       "    .dataframe tbody tr th:only-of-type {\n",
       "        vertical-align: middle;\n",
       "    }\n",
       "\n",
       "    .dataframe tbody tr th {\n",
       "        vertical-align: top;\n",
       "    }\n",
       "\n",
       "    .dataframe thead th {\n",
       "        text-align: right;\n",
       "    }\n",
       "</style>\n",
       "<table border=\"1\" class=\"dataframe\">\n",
       "  <thead>\n",
       "    <tr style=\"text-align: right;\">\n",
       "      <th></th>\n",
       "      <th>repo</th>\n",
       "      <th>issues_count</th>\n",
       "      <th>parent</th>\n",
       "      <th>foreign</th>\n",
       "      <th>project</th>\n",
       "      <th>short_name</th>\n",
       "    </tr>\n",
       "  </thead>\n",
       "  <tbody>\n",
       "    <tr>\n",
       "      <th>1</th>\n",
       "      <td>amberframework/amber</td>\n",
       "      <td>669</td>\n",
       "      <td>184</td>\n",
       "      <td>123</td>\n",
       "      <td>282</td>\n",
       "      <td>amber</td>\n",
       "    </tr>\n",
       "    <tr>\n",
       "      <th>2</th>\n",
       "      <td>aws/aws-sdk-go</td>\n",
       "      <td>61</td>\n",
       "      <td>0</td>\n",
       "      <td>4</td>\n",
       "      <td>25</td>\n",
       "      <td>aws-sdk-go</td>\n",
       "    </tr>\n",
       "    <tr>\n",
       "      <th>5</th>\n",
       "      <td>patchthecode/JTAppleCalendar</td>\n",
       "      <td>144</td>\n",
       "      <td>0</td>\n",
       "      <td>1</td>\n",
       "      <td>82</td>\n",
       "      <td>JTAppleCalendar</td>\n",
       "    </tr>\n",
       "    <tr>\n",
       "      <th>4</th>\n",
       "      <td>mailboxer/mailboxer</td>\n",
       "      <td>4</td>\n",
       "      <td>0</td>\n",
       "      <td>0</td>\n",
       "      <td>3</td>\n",
       "      <td>mailboxer</td>\n",
       "    </tr>\n",
       "    <tr>\n",
       "      <th>0</th>\n",
       "      <td>PerfectlySoft/Perfect</td>\n",
       "      <td>36</td>\n",
       "      <td>5</td>\n",
       "      <td>4</td>\n",
       "      <td>14</td>\n",
       "      <td>Perfect</td>\n",
       "    </tr>\n",
       "    <tr>\n",
       "      <th>3</th>\n",
       "      <td>kriasoft/react-starter-kit</td>\n",
       "      <td>266</td>\n",
       "      <td>16</td>\n",
       "      <td>46</td>\n",
       "      <td>142</td>\n",
       "      <td>react-starter-kit</td>\n",
       "    </tr>\n",
       "    <tr>\n",
       "      <th>6</th>\n",
       "      <td>shuup/shuup</td>\n",
       "      <td>56</td>\n",
       "      <td>0</td>\n",
       "      <td>14</td>\n",
       "      <td>27</td>\n",
       "      <td>shuup</td>\n",
       "    </tr>\n",
       "  </tbody>\n",
       "</table>\n",
       "</div>"
      ],
      "text/plain": [
       "                           repo  issues_count  parent  foreign  project  \\\n",
       "1          amberframework/amber           669     184      123      282   \n",
       "2                aws/aws-sdk-go            61       0        4       25   \n",
       "5  patchthecode/JTAppleCalendar           144       0        1       82   \n",
       "4           mailboxer/mailboxer             4       0        0        3   \n",
       "0         PerfectlySoft/Perfect            36       5        4       14   \n",
       "3    kriasoft/react-starter-kit           266      16       46      142   \n",
       "6                   shuup/shuup            56       0       14       27   \n",
       "\n",
       "          short_name  \n",
       "1              amber  \n",
       "2         aws-sdk-go  \n",
       "5    JTAppleCalendar  \n",
       "4          mailboxer  \n",
       "0            Perfect  \n",
       "3  react-starter-kit  \n",
       "6              shuup  "
      ]
     },
     "execution_count": 5,
     "metadata": {},
     "output_type": "execute_result"
    }
   ],
   "source": [
    "# Note: issues_count is the length of \"issues\" extracted from https://developer.gitter.im/docs/messages-resource\n",
    "# It can include issues that are not valid\n",
    "griomire_lab_issues_count"
   ]
  },
  {
   "cell_type": "code",
   "execution_count": 6,
   "id": "c8727662-94a8-4456-904d-fd4ecbdd5f03",
   "metadata": {},
   "outputs": [],
   "source": [
    "# Previous pipeline data\n",
    "# https://raw.githubusercontent.com/Hareem-E-Sahar/gitter/master/Scripts_Graphs/OUTPUT.csv\n",
    "columns = ['Repo', 'IssuesFound', 'ParentRepoSame', 'No-of-repo-only-issues', 'ForeignIssues']\n",
    "previous_pipeline_api_counts = pd.read_csv('previous_pipeline_data/gitter_api_issues.csv')[columns]"
   ]
  },
  {
   "cell_type": "code",
   "execution_count": 7,
   "id": "22d63dd8-0555-4083-a641-e3cdb81c90e6",
   "metadata": {},
   "outputs": [],
   "source": [
    "# Filter out the repos that are not in our replication with GrimoireLab\n",
    "previous_pipeline_api_counts = previous_pipeline_api_counts[previous_pipeline_api_counts['Repo'].isin(df_gitter_enriched_raw.project.unique())]\n",
    "previous_pipeline_api_counts['short_name'] = previous_pipeline_api_counts['Repo'].apply(lambda x: x.split('/')[-1])\n",
    "previous_pipeline_api_counts = previous_pipeline_api_counts.sort_values(by='short_name', key=lambda col: col.str.lower())"
   ]
  },
  {
   "cell_type": "code",
   "execution_count": 8,
   "id": "5cae77ea-bcb7-4f19-9f70-7ee5329b3300",
   "metadata": {},
   "outputs": [
    {
     "data": {
      "text/html": [
       "<div>\n",
       "<style scoped>\n",
       "    .dataframe tbody tr th:only-of-type {\n",
       "        vertical-align: middle;\n",
       "    }\n",
       "\n",
       "    .dataframe tbody tr th {\n",
       "        vertical-align: top;\n",
       "    }\n",
       "\n",
       "    .dataframe thead th {\n",
       "        text-align: right;\n",
       "    }\n",
       "</style>\n",
       "<table border=\"1\" class=\"dataframe\">\n",
       "  <thead>\n",
       "    <tr style=\"text-align: right;\">\n",
       "      <th></th>\n",
       "      <th>Repo</th>\n",
       "      <th>IssuesFound</th>\n",
       "      <th>ParentRepoSame</th>\n",
       "      <th>No-of-repo-only-issues</th>\n",
       "      <th>ForeignIssues</th>\n",
       "      <th>short_name</th>\n",
       "    </tr>\n",
       "  </thead>\n",
       "  <tbody>\n",
       "    <tr>\n",
       "      <th>0</th>\n",
       "      <td>amberframework/amber</td>\n",
       "      <td>579</td>\n",
       "      <td>403</td>\n",
       "      <td>250</td>\n",
       "      <td>109</td>\n",
       "      <td>amber</td>\n",
       "    </tr>\n",
       "    <tr>\n",
       "      <th>3</th>\n",
       "      <td>aws/aws-sdk-go</td>\n",
       "      <td>52</td>\n",
       "      <td>19</td>\n",
       "      <td>19</td>\n",
       "      <td>2</td>\n",
       "      <td>aws-sdk-go</td>\n",
       "    </tr>\n",
       "    <tr>\n",
       "      <th>7</th>\n",
       "      <td>patchthecode/JTAppleCalendar</td>\n",
       "      <td>141</td>\n",
       "      <td>79</td>\n",
       "      <td>79</td>\n",
       "      <td>1</td>\n",
       "      <td>JTAppleCalendar</td>\n",
       "    </tr>\n",
       "    <tr>\n",
       "      <th>9</th>\n",
       "      <td>mailboxer/mailboxer</td>\n",
       "      <td>4</td>\n",
       "      <td>3</td>\n",
       "      <td>3</td>\n",
       "      <td>0</td>\n",
       "      <td>mailboxer</td>\n",
       "    </tr>\n",
       "    <tr>\n",
       "      <th>13</th>\n",
       "      <td>PerfectlySoft/Perfect</td>\n",
       "      <td>36</td>\n",
       "      <td>19</td>\n",
       "      <td>14</td>\n",
       "      <td>4</td>\n",
       "      <td>Perfect</td>\n",
       "    </tr>\n",
       "    <tr>\n",
       "      <th>14</th>\n",
       "      <td>kriasoft/react-starter-kit</td>\n",
       "      <td>265</td>\n",
       "      <td>157</td>\n",
       "      <td>141</td>\n",
       "      <td>46</td>\n",
       "      <td>react-starter-kit</td>\n",
       "    </tr>\n",
       "    <tr>\n",
       "      <th>16</th>\n",
       "      <td>shuup/shuup</td>\n",
       "      <td>52</td>\n",
       "      <td>23</td>\n",
       "      <td>23</td>\n",
       "      <td>14</td>\n",
       "      <td>shuup</td>\n",
       "    </tr>\n",
       "  </tbody>\n",
       "</table>\n",
       "</div>"
      ],
      "text/plain": [
       "                            Repo  IssuesFound  ParentRepoSame  \\\n",
       "0           amberframework/amber          579             403   \n",
       "3                 aws/aws-sdk-go           52              19   \n",
       "7   patchthecode/JTAppleCalendar          141              79   \n",
       "9            mailboxer/mailboxer            4               3   \n",
       "13         PerfectlySoft/Perfect           36              19   \n",
       "14    kriasoft/react-starter-kit          265             157   \n",
       "16                   shuup/shuup           52              23   \n",
       "\n",
       "    No-of-repo-only-issues  ForeignIssues         short_name  \n",
       "0                      250            109              amber  \n",
       "3                       19              2         aws-sdk-go  \n",
       "7                       79              1    JTAppleCalendar  \n",
       "9                        3              0          mailboxer  \n",
       "13                      14              4            Perfect  \n",
       "14                     141             46  react-starter-kit  \n",
       "16                      23             14              shuup  "
      ]
     },
     "execution_count": 8,
     "metadata": {},
     "output_type": "execute_result"
    }
   ],
   "source": [
    "# Note: issues_count is the length of \"issues\" extracted from https://developer.gitter.im/docs/messages-resource\n",
    "# It can include issues that are not valid\n",
    "# There are likely less issuesfound since there are less messages processed in the previous pipeline\n",
    "# There is also a discrepancy with the repo classification (parent, foreign, project) which may due to the previous project classifying even invalid issues\n",
    "previous_pipeline_api_counts"
   ]
  },
  {
   "cell_type": "code",
   "execution_count": 9,
   "id": "a34feca9-1920-40d1-b764-513f6aa063df",
   "metadata": {},
   "outputs": [
    {
     "data": {
      "image/png": "[encoded data removed]",
      "text/plain": [
       "<Figure size 432x288 with 1 Axes>"
      ]
     },
     "metadata": {
      "needs_background": "light"
     },
     "output_type": "display_data"
    }
   ],
   "source": [
    "# Create the chart\n",
    "# https://matplotlib.org/stable/gallery/lines_bars_and_markers/barchart.html\n",
    "\n",
    "import matplotlib.pyplot as plt\n",
    "import numpy as np\n",
    "\n",
    "labels = griomire_lab_issues_count['short_name'].unique()\n",
    "previous = previous_pipeline_api_counts['IssuesFound'].values\n",
    "grimoirelab = griomire_lab_issues_count['issues_count'].values\n",
    "\n",
    "x = np.arange(len(labels))  # the label locations\n",
    "width = 0.35  # the width of the bars\n",
    "\n",
    "fig, ax = plt.subplots()\n",
    "rects1 = ax.bar(x - width/2, previous, width, label='Previous', color=\"#fc7c30\")\n",
    "rects2 = ax.bar(x + width/2, grimoirelab, width, label='GrimoireLab', color='#2578af')\n",
    "\n",
    "# Add some text for labels, title and custom x-axis tick labels, etc.\n",
    "ax.set_ylabel('Number of Issues (log scale)')\n",
    "# ax.set_title('Issues from API')\n",
    "ax.set_xticks(x, labels)\n",
    "ax.legend(loc='upper center')\n",
    "\n",
    "ax.bar_label(rects1, padding=3, fontsize=8)\n",
    "ax.bar_label(rects2, padding=3, fontsize=8)\n",
    "\n",
    "ax.spines['top'].set_visible(False)\n",
    "ax.spines['right'].set_visible(False)\n",
    "ax.spines['bottom'].set_visible(False)\n",
    "ax.spines['left'].set_visible(False)\n",
    "\n",
    "plt.yscale(\"log\")\n",
    "plt.xticks(rotation=45)\n",
    "fig.tight_layout()\n",
    "plt.savefig('output/api_counts.pdf')\n",
    "plt.show()"
   ]
  },
  {
   "cell_type": "markdown",
   "id": "101c7e5b-0f07-4d7e-9470-02001b2afe35",
   "metadata": {},
   "source": [
    "<hr>\n",
    "\n",
    "# Figure 4 - Mentioned Issues Resolution Time"
   ]
  },
  {
   "cell_type": "code",
   "execution_count": 10,
   "id": "44b0cc61-77a0-4e19-9fde-34be17ef6ccd",
   "metadata": {},
   "outputs": [],
   "source": [
    "# First retrieve all the issues/pull requests referred to in each Gitter message\n",
    "gitter_issues = {}\n",
    "\n",
    "for i,g in df_gitter_enriched_raw.groupby('project'):\n",
    "    gitter_issues[i] = set()\n",
    "    for i2, g2 in g[g.issues.astype(bool)].iterrows():\n",
    "        # Retrieve issues in a similar timeline to the previous pipleine\n",
    "        if pd.to_datetime(g2['grimoire_creation_date']) < datetime(2019, 11, 30).replace(tzinfo=utc):\n",
    "            for item in g2.issues:\n",
    "                if 'repo_type' in item.keys() and 'number' in item.keys():\n",
    "                    if item['repo_type'] == 'project':\n",
    "                        gitter_issues[i].add(item['number'])"
   ]
  },
  {
   "cell_type": "code",
   "execution_count": 11,
   "id": "9edbde6e-2d18-4746-aa8f-7cc0c9a74aae",
   "metadata": {},
   "outputs": [],
   "source": [
    "# Query enriched github issues index\n",
    "results = elasticsearch.helpers.scan(es, query=body, index=\"github_issues\")\n",
    "df_gitter_issues = pd.DataFrame.from_dict([document['_source'] for document in results])"
   ]
  },
  {
   "cell_type": "code",
   "execution_count": 12,
   "id": "5c4eaeaf-74a6-400c-a3a4-2c2b9ebb5b53",
   "metadata": {},
   "outputs": [],
   "source": [
    "gitter_issue_rows = []\n",
    "\n",
    "# We exclude closed pull requests since the previous pipeline does as well\n",
    "for i,g in df_gitter_issues[(df_gitter_issues['state'] == 'closed') & ~(df_gitter_issues['pull_request'])].groupby('project'):\n",
    "    for i2, row in g.iterrows():\n",
    "        if row['id_in_repo'] in gitter_issues[i]:\n",
    "            # Retrieve issues in a similar timeline to the previous pipleine\n",
    "            if pd.to_datetime(row['closed_at']) < datetime(2019, 11, 30).replace(tzinfo=utc):\n",
    "                gitter_issue_rows.append(row)"
   ]
  },
  {
   "cell_type": "code",
   "execution_count": 13,
   "id": "3e7fce68-51f8-4d50-9fa9-a1ef7ca98849",
   "metadata": {},
   "outputs": [],
   "source": [
    "gitter_issue_df = pd.DataFrame(gitter_issue_rows)\n",
    "\n",
    "# Previous study used time to close in hours\n",
    "gitter_issue_df['time_to_close_hours'] = gitter_issue_df['time_to_close_days'] * 24\n",
    "\n",
    "gitter_issue_df['short_name'] = gitter_issue_df['project'].apply(lambda x: x.split('/')[-1])"
   ]
  },
  {
   "cell_type": "code",
   "execution_count": 14,
   "id": "31acacb4-594e-40ae-bc64-97e139988bf8",
   "metadata": {},
   "outputs": [
    {
     "data": {
      "text/plain": [
       "(array([1, 2, 3, 4, 5, 6, 7]),\n",
       " [Text(1, 0, 'JTAppleCalendar'),\n",
       "  Text(2, 0, 'Perfect'),\n",
       "  Text(3, 0, 'amber'),\n",
       "  Text(4, 0, 'aws-sdk-go'),\n",
       "  Text(5, 0, 'mailboxer'),\n",
       "  Text(6, 0, 'react-starter-kit'),\n",
       "  Text(7, 0, 'shuup')])"
      ]
     },
     "execution_count": 14,
     "metadata": {},
     "output_type": "execute_result"
    },
    {
     "data": {
      "image/png": "[encoded data removed]",
      "text/plain": [
       "<Figure size 432x288 with 1 Axes>"
      ]
     },
     "metadata": {
      "needs_background": "light"
     },
     "output_type": "display_data"
    }
   ],
   "source": [
    "# Preliminary Visualization of GrimoireLab Pipeline\n",
    "gitter_issue_df.plot.box(column=\"time_to_close_hours\", by=\"short_name\", showfliers=False, logy=True)\n",
    "plt.xticks(rotation=45)"
   ]
  },
  {
   "cell_type": "code",
   "execution_count": 15,
   "id": "03fde64c-51df-4197-b034-446de0323c21",
   "metadata": {},
   "outputs": [
    {
     "data": {
      "text/plain": [
       "(array([1, 2, 3, 4, 5, 6, 7]),\n",
       " [Text(1, 0, 'JTAppleCalendar'),\n",
       "  Text(2, 0, 'Perfect'),\n",
       "  Text(3, 0, 'amber'),\n",
       "  Text(4, 0, 'aws-sdk-go'),\n",
       "  Text(5, 0, 'mailboxer'),\n",
       "  Text(6, 0, 'react-starter-kit'),\n",
       "  Text(7, 0, 'shuup')])"
      ]
     },
     "execution_count": 15,
     "metadata": {},
     "output_type": "execute_result"
    },
    {
     "data": {
      "image/png": "[encoded data removed]",
      "text/plain": [
       "<Figure size 432x288 with 1 Axes>"
      ]
     },
     "metadata": {
      "needs_background": "light"
     },
     "output_type": "display_data"
    }
   ],
   "source": [
    "# Previous pipeline resolution time\n",
    "# https://raw.githubusercontent.com/Hareem-E-Sahar/gitter/master/ResolutionTime_AllGitterBugReports.csv\n",
    "previous_resolution_time = pd.read_csv('previous_pipeline_data/ResolutionTime_AllGitterBugReports.csv')\n",
    "previous_resolution_time = previous_resolution_time[previous_resolution_time.resolution_time != 'NA']\n",
    "previous_resolution_time = previous_resolution_time[~(previous_resolution_time.resolution_time.isnull())]\n",
    "previous_resolution_time['name'] = previous_resolution_time['room']\n",
    "previous_resolution_time.loc[previous_resolution_time.room == 'aws', 'name'] = 'aws-sdk-go'\n",
    "previous_resolution_time.loc[previous_resolution_time.room == 'perfect', 'name'] = 'Perfect'\n",
    "previous_resolution_time.loc[previous_resolution_time.room == 'react', 'name'] = 'react-starter-kit'\n",
    "previous_resolution_time = previous_resolution_time[previous_resolution_time.name.isin(gitter_issue_df['short_name'].unique())]\n",
    "previous_resolution_time.plot.box(column=\"resolution_time\", by=\"name\", showfliers=False, logy=True)\n",
    "plt.xticks(rotation=45)"
   ]
  },
  {
   "cell_type": "markdown",
   "id": "1aae317b-e750-4478-85c9-8e6f21acbe56",
   "metadata": {},
   "source": [
    "## Export Figure 4 data for RScript\n",
    "We generate the data and use `RScript/resolution_time.R` to generate the plot for our paper"
   ]
  },
  {
   "cell_type": "code",
   "execution_count": 16,
   "id": "2523c72c-91ab-4ffb-b5a1-e38ec628d56c",
   "metadata": {},
   "outputs": [],
   "source": [
    "gitter_issue_df[['time_to_close_hours', 'project', 'created_at', 'closed_at', 'id_in_repo', 'short_name']].to_csv('output/grimoire_time_to_close_hours.csv',index=False)\n",
    "previous_resolution_time.to_csv('output/previous_pipeline_time_to_close_hours.csv',index=False)"
   ]
  },
  {
   "cell_type": "markdown",
   "id": "88ce34b5-13d2-427d-9c17-9cd380e030f7",
   "metadata": {},
   "source": [
    "## Discrepancy Investigation\n",
    "\n",
    "We investigate to see if the issues identified overlap for the previous pipeline and Grimoirelab finding that the previous pipleine missed 1 issue\n",
    "\n",
    "We also determine that Grimoirelab data has more precision for time"
   ]
  },
  {
   "cell_type": "markdown",
   "id": "84264270-9ad5-4a0c-bf05-fc31fe2768de",
   "metadata": {},
   "source": [
    "### Issue Overlap"
   ]
  },
  {
   "cell_type": "code",
   "execution_count": 17,
   "id": "581d2420-b66b-4581-826b-22a9ce0ac4de",
   "metadata": {},
   "outputs": [
    {
     "name": "stdout",
     "output_type": "stream",
     "text": [
      "set()\n",
      "set()\n"
     ]
    }
   ],
   "source": [
    "issues_jtapplecalendar = previous_resolution_time[previous_resolution_time['name'] == 'JTAppleCalendar']\n",
    "\n",
    "print(set(issues_jtapplecalendar.issuenumber.unique()) - set(gitter_issue_df[gitter_issue_df.short_name=='JTAppleCalendar']['id_in_repo'].astype(int).values))\n",
    "print(set(gitter_issue_df[gitter_issue_df.short_name=='JTAppleCalendar']['id_in_repo'].astype(int).values) - set(issues_jtapplecalendar.issuenumber.unique()))"
   ]
  },
  {
   "cell_type": "code",
   "execution_count": 18,
   "id": "ccdf5227-512a-4192-ab84-cb477e56ead2",
   "metadata": {},
   "outputs": [
    {
     "name": "stdout",
     "output_type": "stream",
     "text": [
      "set()\n",
      "set()\n"
     ]
    }
   ],
   "source": [
    "issues_Perfect = previous_resolution_time[previous_resolution_time['name'] == 'Perfect']\n",
    "\n",
    "print(set(issues_Perfect.issuenumber.unique()) - set(gitter_issue_df[gitter_issue_df.short_name=='Perfect']['id_in_repo'].astype(int).values))\n",
    "print(set(gitter_issue_df[gitter_issue_df.short_name=='Perfect']['id_in_repo'].astype(int).values) - set(issues_Perfect.issuenumber.unique()))"
   ]
  },
  {
   "cell_type": "code",
   "execution_count": 19,
   "id": "26391d07-c0d4-491b-9c4a-380b1d8374ed",
   "metadata": {},
   "outputs": [
    {
     "name": "stdout",
     "output_type": "stream",
     "text": [
      "set()\n",
      "{1129}\n"
     ]
    }
   ],
   "source": [
    "issues_amber = previous_resolution_time[previous_resolution_time['name'] == 'amber']\n",
    "\n",
    "print(set(issues_amber.issuenumber.unique()) - set(gitter_issue_df[gitter_issue_df.short_name=='amber']['id_in_repo'].astype(int).values))\n",
    "print(set(gitter_issue_df[gitter_issue_df.short_name=='amber']['id_in_repo'].astype(int).values) - set(issues_amber.issuenumber.unique()))\n",
    "\n",
    "# https://github.com/amberframework/amber/issues/1129 was omitted from the previous pipeline"
   ]
  },
  {
   "cell_type": "code",
   "execution_count": 20,
   "id": "226845af-fb01-48f0-9ad3-fcd154620754",
   "metadata": {},
   "outputs": [
    {
     "name": "stdout",
     "output_type": "stream",
     "text": [
      "set()\n",
      "set()\n"
     ]
    }
   ],
   "source": [
    "issues_aws = previous_resolution_time[previous_resolution_time['name'] == 'aws-sdk-go']\n",
    "\n",
    "print(set(issues_aws.issuenumber.unique()) - set(gitter_issue_df[gitter_issue_df.short_name=='aws-sdk-go']['id_in_repo'].astype(int).values))\n",
    "print(set(gitter_issue_df[gitter_issue_df.short_name=='aws-sdk-go']['id_in_repo'].astype(int).values) - set(issues_aws.issuenumber.unique()))"
   ]
  },
  {
   "cell_type": "code",
   "execution_count": 21,
   "id": "1d94f7a2-8aed-48bb-8d88-effd5b991e47",
   "metadata": {},
   "outputs": [
    {
     "name": "stdout",
     "output_type": "stream",
     "text": [
      "set()\n",
      "set()\n"
     ]
    }
   ],
   "source": [
    "issues_mailboxer = previous_resolution_time[previous_resolution_time['name'] == 'mailboxer']\n",
    "\n",
    "print(set(issues_mailboxer.issuenumber.unique()) - set(gitter_issue_df[gitter_issue_df.short_name=='mailboxer']['id_in_repo'].astype(int).values))\n",
    "print(set(gitter_issue_df[gitter_issue_df.short_name=='mailboxer']['id_in_repo'].astype(int).values) - set(issues_mailboxer.issuenumber.unique()))"
   ]
  },
  {
   "cell_type": "code",
   "execution_count": 22,
   "id": "7f163a3c-6c3c-4e60-b9f4-f3e2b4bda2de",
   "metadata": {},
   "outputs": [
    {
     "name": "stdout",
     "output_type": "stream",
     "text": [
      "set()\n",
      "set()\n"
     ]
    }
   ],
   "source": [
    "issues_mailboxer = previous_resolution_time[previous_resolution_time['name'] == 'react-starter-kit']\n",
    "\n",
    "print(set(issues_mailboxer.issuenumber.unique()) - set(gitter_issue_df[gitter_issue_df.short_name=='react-starter-kit']['id_in_repo'].astype(int).values))\n",
    "print(set(gitter_issue_df[gitter_issue_df.short_name=='react-starter-kit']['id_in_repo'].astype(int).values) - set(issues_mailboxer.issuenumber.unique()))"
   ]
  },
  {
   "cell_type": "code",
   "execution_count": 23,
   "id": "e076238f-b073-46cd-a904-1cd20aee75d4",
   "metadata": {},
   "outputs": [
    {
     "name": "stdout",
     "output_type": "stream",
     "text": [
      "set()\n",
      "set()\n"
     ]
    }
   ],
   "source": [
    "issues_shuup = previous_resolution_time[previous_resolution_time['name'] == 'shuup']\n",
    "\n",
    "print(set(issues_shuup.issuenumber.unique()) - set(gitter_issue_df[gitter_issue_df.short_name=='shuup']['id_in_repo'].astype(int).values))\n",
    "print(set(gitter_issue_df[gitter_issue_df.short_name=='shuup']['id_in_repo'].astype(int).values) - set(issues_shuup.issuenumber.unique()))"
   ]
  },
  {
   "cell_type": "markdown",
   "id": "9ffb368b-6d2f-470d-adf4-2c553243b172",
   "metadata": {},
   "source": [
    "### Time Precision\n",
    "\n",
    "We find differences of up to an hour between the Grimoirelab dataset and previous data pipeline dataset"
   ]
  },
  {
   "cell_type": "code",
   "execution_count": 24,
   "id": "b7c8151a-4773-4ff7-8dc5-d62c821596a8",
   "metadata": {},
   "outputs": [
    {
     "data": {
      "text/plain": [
       "count    165.000000\n",
       "mean       0.014303\n",
       "std        0.399706\n",
       "min       -0.880000\n",
       "25%       -0.280000\n",
       "50%        0.040000\n",
       "75%        0.280000\n",
       "max        1.000000\n",
       "Name: closing_diff, dtype: float64"
      ]
     },
     "execution_count": 24,
     "metadata": {},
     "output_type": "execute_result"
    }
   ],
   "source": [
    "gitter_issue_df['join_id'] = gitter_issue_df['short_name'] + gitter_issue_df['id_in_repo']\n",
    "previous_resolution_time['join_id'] = previous_resolution_time['name'] + previous_resolution_time['issuenumber'].astype(str)\n",
    "\n",
    "compare_times = pd.merge(gitter_issue_df, previous_resolution_time, how='left', on = 'join_id')\n",
    "\n",
    "compare_times['closing_diff'] = compare_times['time_to_close_hours'] - compare_times['resolution_time']\n",
    "\n",
    "compare_times['closing_diff'].describe()"
   ]
  },
  {
   "cell_type": "code",
   "execution_count": 25,
   "id": "df03ee75-3714-445a-9055-09576c7b4ede",
   "metadata": {},
   "outputs": [
    {
     "data": {
      "text/html": [
       "<div>\n",
       "<style scoped>\n",
       "    .dataframe tbody tr th:only-of-type {\n",
       "        vertical-align: middle;\n",
       "    }\n",
       "\n",
       "    .dataframe tbody tr th {\n",
       "        vertical-align: top;\n",
       "    }\n",
       "\n",
       "    .dataframe thead th {\n",
       "        text-align: right;\n",
       "    }\n",
       "</style>\n",
       "<table border=\"1\" class=\"dataframe\">\n",
       "  <thead>\n",
       "    <tr style=\"text-align: right;\">\n",
       "      <th></th>\n",
       "      <th>time_to_close_hours</th>\n",
       "      <th>resolution_time</th>\n",
       "      <th>closing_diff</th>\n",
       "    </tr>\n",
       "  </thead>\n",
       "  <tbody>\n",
       "    <tr>\n",
       "      <th>0</th>\n",
       "      <td>5062.56</td>\n",
       "      <td>5062.0</td>\n",
       "      <td>0.56</td>\n",
       "    </tr>\n",
       "    <tr>\n",
       "      <th>6</th>\n",
       "      <td>6362.64</td>\n",
       "      <td>6362.0</td>\n",
       "      <td>0.64</td>\n",
       "    </tr>\n",
       "    <tr>\n",
       "      <th>17</th>\n",
       "      <td>2371.68</td>\n",
       "      <td>2371.0</td>\n",
       "      <td>0.68</td>\n",
       "    </tr>\n",
       "    <tr>\n",
       "      <th>23</th>\n",
       "      <td>238.56</td>\n",
       "      <td>238.0</td>\n",
       "      <td>0.56</td>\n",
       "    </tr>\n",
       "    <tr>\n",
       "      <th>25</th>\n",
       "      <td>9682.32</td>\n",
       "      <td>9682.0</td>\n",
       "      <td>0.32</td>\n",
       "    </tr>\n",
       "    <tr>\n",
       "      <th>29</th>\n",
       "      <td>1296.72</td>\n",
       "      <td>1296.0</td>\n",
       "      <td>0.72</td>\n",
       "    </tr>\n",
       "    <tr>\n",
       "      <th>30</th>\n",
       "      <td>875.76</td>\n",
       "      <td>875.0</td>\n",
       "      <td>0.76</td>\n",
       "    </tr>\n",
       "    <tr>\n",
       "      <th>32</th>\n",
       "      <td>6627.84</td>\n",
       "      <td>6627.0</td>\n",
       "      <td>0.84</td>\n",
       "    </tr>\n",
       "    <tr>\n",
       "      <th>35</th>\n",
       "      <td>6961.92</td>\n",
       "      <td>6961.0</td>\n",
       "      <td>0.92</td>\n",
       "    </tr>\n",
       "    <tr>\n",
       "      <th>36</th>\n",
       "      <td>299.28</td>\n",
       "      <td>299.0</td>\n",
       "      <td>0.28</td>\n",
       "    </tr>\n",
       "    <tr>\n",
       "      <th>37</th>\n",
       "      <td>1.44</td>\n",
       "      <td>1.0</td>\n",
       "      <td>0.44</td>\n",
       "    </tr>\n",
       "    <tr>\n",
       "      <th>46</th>\n",
       "      <td>496.56</td>\n",
       "      <td>496.0</td>\n",
       "      <td>0.56</td>\n",
       "    </tr>\n",
       "    <tr>\n",
       "      <th>47</th>\n",
       "      <td>3701.52</td>\n",
       "      <td>3701.0</td>\n",
       "      <td>0.52</td>\n",
       "    </tr>\n",
       "    <tr>\n",
       "      <th>51</th>\n",
       "      <td>194.40</td>\n",
       "      <td>194.0</td>\n",
       "      <td>0.40</td>\n",
       "    </tr>\n",
       "    <tr>\n",
       "      <th>53</th>\n",
       "      <td>15.60</td>\n",
       "      <td>15.0</td>\n",
       "      <td>0.60</td>\n",
       "    </tr>\n",
       "    <tr>\n",
       "      <th>55</th>\n",
       "      <td>190.32</td>\n",
       "      <td>190.0</td>\n",
       "      <td>0.32</td>\n",
       "    </tr>\n",
       "    <tr>\n",
       "      <th>63</th>\n",
       "      <td>206.64</td>\n",
       "      <td>206.0</td>\n",
       "      <td>0.64</td>\n",
       "    </tr>\n",
       "    <tr>\n",
       "      <th>65</th>\n",
       "      <td>22.32</td>\n",
       "      <td>22.0</td>\n",
       "      <td>0.32</td>\n",
       "    </tr>\n",
       "    <tr>\n",
       "      <th>73</th>\n",
       "      <td>34.32</td>\n",
       "      <td>34.0</td>\n",
       "      <td>0.32</td>\n",
       "    </tr>\n",
       "    <tr>\n",
       "      <th>80</th>\n",
       "      <td>167.28</td>\n",
       "      <td>167.0</td>\n",
       "      <td>0.28</td>\n",
       "    </tr>\n",
       "    <tr>\n",
       "      <th>81</th>\n",
       "      <td>329.52</td>\n",
       "      <td>329.0</td>\n",
       "      <td>0.52</td>\n",
       "    </tr>\n",
       "    <tr>\n",
       "      <th>88</th>\n",
       "      <td>6426.48</td>\n",
       "      <td>6426.0</td>\n",
       "      <td>0.48</td>\n",
       "    </tr>\n",
       "    <tr>\n",
       "      <th>96</th>\n",
       "      <td>12482.64</td>\n",
       "      <td>12482.0</td>\n",
       "      <td>0.64</td>\n",
       "    </tr>\n",
       "    <tr>\n",
       "      <th>100</th>\n",
       "      <td>263.28</td>\n",
       "      <td>263.0</td>\n",
       "      <td>0.28</td>\n",
       "    </tr>\n",
       "    <tr>\n",
       "      <th>103</th>\n",
       "      <td>1150.32</td>\n",
       "      <td>1150.0</td>\n",
       "      <td>0.32</td>\n",
       "    </tr>\n",
       "    <tr>\n",
       "      <th>110</th>\n",
       "      <td>2261.52</td>\n",
       "      <td>2261.0</td>\n",
       "      <td>0.52</td>\n",
       "    </tr>\n",
       "    <tr>\n",
       "      <th>117</th>\n",
       "      <td>5.28</td>\n",
       "      <td>5.0</td>\n",
       "      <td>0.28</td>\n",
       "    </tr>\n",
       "    <tr>\n",
       "      <th>121</th>\n",
       "      <td>1013.52</td>\n",
       "      <td>1013.0</td>\n",
       "      <td>0.52</td>\n",
       "    </tr>\n",
       "    <tr>\n",
       "      <th>123</th>\n",
       "      <td>917.52</td>\n",
       "      <td>917.0</td>\n",
       "      <td>0.52</td>\n",
       "    </tr>\n",
       "    <tr>\n",
       "      <th>126</th>\n",
       "      <td>13590.00</td>\n",
       "      <td>13589.0</td>\n",
       "      <td>1.00</td>\n",
       "    </tr>\n",
       "    <tr>\n",
       "      <th>128</th>\n",
       "      <td>0.96</td>\n",
       "      <td>0.0</td>\n",
       "      <td>0.96</td>\n",
       "    </tr>\n",
       "    <tr>\n",
       "      <th>129</th>\n",
       "      <td>12896.40</td>\n",
       "      <td>12896.0</td>\n",
       "      <td>0.40</td>\n",
       "    </tr>\n",
       "    <tr>\n",
       "      <th>139</th>\n",
       "      <td>139.44</td>\n",
       "      <td>139.0</td>\n",
       "      <td>0.44</td>\n",
       "    </tr>\n",
       "    <tr>\n",
       "      <th>144</th>\n",
       "      <td>173.28</td>\n",
       "      <td>173.0</td>\n",
       "      <td>0.28</td>\n",
       "    </tr>\n",
       "    <tr>\n",
       "      <th>147</th>\n",
       "      <td>492.72</td>\n",
       "      <td>492.0</td>\n",
       "      <td>0.72</td>\n",
       "    </tr>\n",
       "    <tr>\n",
       "      <th>151</th>\n",
       "      <td>18.48</td>\n",
       "      <td>18.0</td>\n",
       "      <td>0.48</td>\n",
       "    </tr>\n",
       "    <tr>\n",
       "      <th>154</th>\n",
       "      <td>146.64</td>\n",
       "      <td>146.0</td>\n",
       "      <td>0.64</td>\n",
       "    </tr>\n",
       "    <tr>\n",
       "      <th>157</th>\n",
       "      <td>1191.36</td>\n",
       "      <td>1191.0</td>\n",
       "      <td>0.36</td>\n",
       "    </tr>\n",
       "    <tr>\n",
       "      <th>158</th>\n",
       "      <td>925.44</td>\n",
       "      <td>925.0</td>\n",
       "      <td>0.44</td>\n",
       "    </tr>\n",
       "    <tr>\n",
       "      <th>159</th>\n",
       "      <td>30.48</td>\n",
       "      <td>30.0</td>\n",
       "      <td>0.48</td>\n",
       "    </tr>\n",
       "    <tr>\n",
       "      <th>164</th>\n",
       "      <td>17385.36</td>\n",
       "      <td>17385.0</td>\n",
       "      <td>0.36</td>\n",
       "    </tr>\n",
       "  </tbody>\n",
       "</table>\n",
       "</div>"
      ],
      "text/plain": [
       "     time_to_close_hours  resolution_time  closing_diff\n",
       "0                5062.56           5062.0          0.56\n",
       "6                6362.64           6362.0          0.64\n",
       "17               2371.68           2371.0          0.68\n",
       "23                238.56            238.0          0.56\n",
       "25               9682.32           9682.0          0.32\n",
       "29               1296.72           1296.0          0.72\n",
       "30                875.76            875.0          0.76\n",
       "32               6627.84           6627.0          0.84\n",
       "35               6961.92           6961.0          0.92\n",
       "36                299.28            299.0          0.28\n",
       "37                  1.44              1.0          0.44\n",
       "46                496.56            496.0          0.56\n",
       "47               3701.52           3701.0          0.52\n",
       "51                194.40            194.0          0.40\n",
       "53                 15.60             15.0          0.60\n",
       "55                190.32            190.0          0.32\n",
       "63                206.64            206.0          0.64\n",
       "65                 22.32             22.0          0.32\n",
       "73                 34.32             34.0          0.32\n",
       "80                167.28            167.0          0.28\n",
       "81                329.52            329.0          0.52\n",
       "88               6426.48           6426.0          0.48\n",
       "96              12482.64          12482.0          0.64\n",
       "100               263.28            263.0          0.28\n",
       "103              1150.32           1150.0          0.32\n",
       "110              2261.52           2261.0          0.52\n",
       "117                 5.28              5.0          0.28\n",
       "121              1013.52           1013.0          0.52\n",
       "123               917.52            917.0          0.52\n",
       "126             13590.00          13589.0          1.00\n",
       "128                 0.96              0.0          0.96\n",
       "129             12896.40          12896.0          0.40\n",
       "139               139.44            139.0          0.44\n",
       "144               173.28            173.0          0.28\n",
       "147               492.72            492.0          0.72\n",
       "151                18.48             18.0          0.48\n",
       "154               146.64            146.0          0.64\n",
       "157              1191.36           1191.0          0.36\n",
       "158               925.44            925.0          0.44\n",
       "159                30.48             30.0          0.48\n",
       "164             17385.36          17385.0          0.36"
      ]
     },
     "execution_count": 25,
     "metadata": {},
     "output_type": "execute_result"
    }
   ],
   "source": [
    "compare_times[compare_times['closing_diff'] >= 0.28][['time_to_close_hours','resolution_time', 'closing_diff']]"
   ]
  },
  {
   "cell_type": "markdown",
   "id": "de9c13bb-5908-4dbb-9989-ae8df04e494b",
   "metadata": {},
   "source": [
    "<hr>\n",
    "\n",
    "# Figure 5 - Ratio of number of issue comments in Github one week after and before issue reference in Gitter\n",
    "\n",
    "We obtain the data using Python and export for R to generate the plot"
   ]
  },
  {
   "cell_type": "code",
   "execution_count": 26,
   "id": "2fb8e64d-b953-402e-b84e-be6811be2fa7",
   "metadata": {},
   "outputs": [],
   "source": [
    "from datetime import datetime, timedelta\n",
    "# Retrieve all the necessary indices again\n",
    "\n",
    "results = elasticsearch.helpers.scan(es, query=body, index=\"gitter_enriched_raw\")\n",
    "df_gitter = pd.DataFrame.from_dict([document['_source'] for document in results])\n",
    "df_gitter.grimoire_creation_date = pd.to_datetime(df_gitter.grimoire_creation_date) # time that message was sent\n",
    "df_gitter = df_gitter.sort_values(by='grimoire_creation_date')\n",
    "\n",
    "results = elasticsearch.helpers.scan(es, query=body, index=\"github2-issues_enriched\")\n",
    "df_github_issues = pd.DataFrame.from_dict([document['_source'] for document in results])\n",
    "df_github_issues.grimoire_creation_date = pd.to_datetime(df_github_issues.grimoire_creation_date) # time that comment was created"
   ]
  },
  {
   "cell_type": "code",
   "execution_count": 27,
   "id": "f5860890-2aeb-41ad-a4fc-85d750bd43d7",
   "metadata": {},
   "outputs": [],
   "source": [
    "gitter_issues = {}\n",
    "change_ratio_rows = []\n",
    "\n",
    "# Logic for dates is as follows\n",
    "# 1 week before: min_date <= comment_date <= gitter_message_date\n",
    "# 1 week after: gitter_message_date < comment_date <= max_date\n",
    "\n",
    "for i,g in df_gitter.groupby('project'):\n",
    "    gitter_issues[i] = dict()\n",
    "    for i2, g2 in g[g.issues.astype(bool)].iterrows():\n",
    "        # Retrieve issues in a similar timeline to the previous pipleine\n",
    "        if pd.to_datetime(g2['grimoire_creation_date']) < datetime(2019, 11, 30).replace(tzinfo=utc):\n",
    "            for item in g2.issues:\n",
    "                if 'repo_type' in item.keys() and 'number' in item.keys():\n",
    "                    if item['repo_type'] == 'project':                        \n",
    "                        change_ratio_rows.append({\n",
    "                            'project' : i,\n",
    "                            'gitter_message_date': g2.grimoire_creation_date,\n",
    "                            'gitter_message_uuid':  g2.uuid,\n",
    "                            'issue_number': item['number'],\n",
    "                            'min_date': g2.grimoire_creation_date - timedelta(days=7),\n",
    "                            'original_date': g2.grimoire_creation_date,\n",
    "                            'max_date': g2.grimoire_creation_date + timedelta(days=7),\n",
    "                            'comments_after': len(df_github_issues[(df_github_issues['is_github_issue_comment'] == 1) \n",
    "                                               & (df_github_issues.grimoire_creation_date <= g2.grimoire_creation_date + timedelta(days=7)) \n",
    "                                               & (df_github_issues.grimoire_creation_date > g2.grimoire_creation_date) \n",
    "                                               & (df_github_issues['project'] == i) & (df_github_issues['issue_id_in_repo'] == item['number']) ]),\n",
    "                            'comments_before': len(df_github_issues[(df_github_issues['is_github_issue_comment'] == 1) \n",
    "                                               & (df_github_issues.grimoire_creation_date <= g2.grimoire_creation_date) \n",
    "                                               & (df_github_issues.grimoire_creation_date >= g2.grimoire_creation_date - timedelta(days=7)) \n",
    "                                               & (df_github_issues['project'] == i) & (df_github_issues['issue_id_in_repo'] == item['number']) ]),\n",
    "                            'total_comments': len(df_github_issues[(df_github_issues['is_github_issue_comment'] == 1) & (df_github_issues.grimoire_creation_date <= g2.grimoire_creation_date + timedelta(days=7)) & \n",
    "                                              (df_github_issues.grimoire_creation_date >= g2.grimoire_creation_date - timedelta(days=7)) & (df_github_issues['project'] == i) & (df_github_issues['issue_id_in_repo'] == item['number']) ])\n",
    "                        })"
   ]
  },
  {
   "cell_type": "code",
   "execution_count": 28,
   "id": "3856625d-cd76-4788-aec9-e5f227ebe458",
   "metadata": {},
   "outputs": [],
   "source": [
    "gitter_comments_count_1_week = pd.DataFrame(change_ratio_rows)\n",
    "gitter_comments_count_1_week['ratio'] = gitter_comments_count_1_week['comments_after'] / gitter_comments_count_1_week['comments_before']"
   ]
  },
  {
   "cell_type": "markdown",
   "id": "b74518b6-b64d-4cc9-8892-5e5cd6f9ce08",
   "metadata": {},
   "source": [
    "## Export Figure 5 data for RScript\n",
    "We generate the data and use `RScript/comments-ratio-boxplot.R` to generate the plot for our paper"
   ]
  },
  {
   "cell_type": "code",
   "execution_count": 29,
   "id": "502f512c-9667-4187-8deb-e0c718411d70",
   "metadata": {},
   "outputs": [],
   "source": [
    "gitter_comments_count_1_week['short_name'] = gitter_comments_count_1_week['project'].apply(lambda x: x.split('/')[-1])\n",
    "\n",
    "gitter_comments_count_1_week[~(gitter_comments_count_1_week['ratio'].isnull()) & ~(np.isinf(gitter_comments_count_1_week['ratio']))][['short_name','ratio']].to_csv('output/gitter_comments_count_1_week.csv', index=False)"
   ]
  },
  {
   "cell_type": "code",
   "execution_count": 30,
   "id": "75dedc83-7d83-418f-b845-6a2a52c9d6fe",
   "metadata": {},
   "outputs": [],
   "source": [
    "# File downloaded from https://github.com/Hareem-E-Sahar/gitter/blob/master/2-CombineCommentsForBoxplot-v3.csv and modified to have correct project names\n",
    "\n",
    "previous_pipeline_ratio = pd.read_csv('previous_pipeline_data/2-CombineCommentsForBoxplot-v3.csv')\n",
    "del previous_pipeline_ratio['Unnamed: 0']\n",
    "previous_pipeline_ratio.loc[previous_pipeline_ratio.roomname == 'perfect', 'roomname'] = 'Perfect'\n",
    "previous_pipeline_ratio = previous_pipeline_ratio[(previous_pipeline_ratio.roomname.isin(gitter_comments_count_1_week.short_name.unique()))]\n",
    "previous_pipeline_ratio['project'] = previous_pipeline_ratio.roomname\n",
    "\n",
    "previous_pipeline_ratio[['project', 'ratio']].to_csv('output/previous_comments_count_1_week.csv', index=False)"
   ]
  },
  {
   "cell_type": "code",
   "execution_count": null,
   "id": "45f6a48e-f3bb-455c-bbd8-f22dee7e89f3",
   "metadata": {},
   "outputs": [],
   "source": []
  }
 ],
 "metadata": {
  "kernelspec": {
   "display_name": "Python 3 (ipykernel)",
   "language": "python",
   "name": "python3"
  },
  "language_info": {
   "codemirror_mode": {
    "name": "ipython",
    "version": 3
   },
   "file_extension": ".py",
   "mimetype": "text/x-python",
   "name": "python",
   "nbconvert_exporter": "python",
   "pygments_lexer": "ipython3",
   "version": "3.9.7"
  }
 },
 "nbformat": 4,
 "nbformat_minor": 5
}
