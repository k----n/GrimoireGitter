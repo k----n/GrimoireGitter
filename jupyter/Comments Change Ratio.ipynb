{
 "cells": [
  {
   "cell_type": "code",
   "execution_count": 1,
   "id": "857e470c-97b9-4744-ba56-59dec7106f09",
   "metadata": {},
   "outputs": [],
   "source": [
    "import pandas as pd\n",
    "from elasticsearch import Elasticsearch\n",
    "import elasticsearch.helpers\n",
    "import matplotlib.pyplot as plt\n",
    "from datetime import datetime, timedelta\n",
    "import numpy as np\n",
    "\n",
    "es = Elasticsearch('elasticsearch', port=9200)\n",
    "\n",
    "body={\"query\": {\"match_all\": {}}}"
   ]
  },
  {
   "cell_type": "code",
   "execution_count": 2,
   "id": "c69690c8-9be7-4bb5-8482-7f622a77c3d4",
   "metadata": {},
   "outputs": [],
   "source": [
    "results = elasticsearch.helpers.scan(es, query=body, index=\"gitter_enriched_raw\")\n",
    "df_gitter = pd.DataFrame.from_dict([document['_source'] for document in results])\n",
    "df_gitter.grimoire_creation_date = pd.to_datetime(df_gitter.grimoire_creation_date) # time that message was sent\n",
    "df_gitter = df_gitter.sort_values(by='grimoire_creation_date')\n",
    "\n",
    "results = elasticsearch.helpers.scan(es, query=body, index=\"github2-issues_enriched\")\n",
    "df_github_issues = pd.DataFrame.from_dict([document['_source'] for document in results])\n",
    "df_github_issues.grimoire_creation_date = pd.to_datetime(df_github_issues.grimoire_creation_date) # time that comment was created"
   ]
  },
  {
   "cell_type": "code",
   "execution_count": 3,
   "id": "f955592e-7191-4fd8-be99-0015f7b8ad5b",
   "metadata": {},
   "outputs": [],
   "source": [
    "gitter_issues = {}\n",
    "change_ratio_rows = []\n",
    "\n",
    "for i,g in df_gitter.groupby('project'):\n",
    "    gitter_issues[i] = dict()\n",
    "    for i2, g2 in g[g.issues.astype(bool)].iterrows():\n",
    "        for item in g2.issues:\n",
    "            if 'repo_type' in item.keys() and 'number' in item.keys():\n",
    "                if item['repo_type'] == 'project':                        \n",
    "                    change_ratio_rows.append({\n",
    "                        'project' : i,\n",
    "                        'gitter_message_date': g2.grimoire_creation_date,\n",
    "                        'gitter_message_uuid':  g2.uuid,\n",
    "                        'issue_number': item['number'],\n",
    "                        'min_date': g2.grimoire_creation_date - timedelta(days=7),\n",
    "                        'original_date': g2.grimoire_creation_date,\n",
    "                        'max_date': g2.grimoire_creation_date + timedelta(days=7),\n",
    "                        'comments_after': len(df_github_issues[(df_github_issues['is_github_issue_comment'] == 1) \n",
    "                                           & (df_github_issues.grimoire_creation_date <= g2.grimoire_creation_date + timedelta(days=7)) \n",
    "                                           & (df_github_issues.grimoire_creation_date > g2.grimoire_creation_date) \n",
    "                                           & (df_github_issues['project'] == i) & (df_github_issues['issue_id_in_repo'] == item['number']) ]),\n",
    "                        'comments_before': len(df_github_issues[(df_github_issues['is_github_issue_comment'] == 1) \n",
    "                                           & (df_github_issues.grimoire_creation_date <= g2.grimoire_creation_date) \n",
    "                                           & (df_github_issues.grimoire_creation_date >= g2.grimoire_creation_date - timedelta(days=7)) \n",
    "                                           & (df_github_issues['project'] == i) & (df_github_issues['issue_id_in_repo'] == item['number']) ]),\n",
    "                        'total_comments': len(df_github_issues[(df_github_issues['is_github_issue_comment'] == 1) & (df_github_issues.grimoire_creation_date <= g2.grimoire_creation_date + timedelta(days=7)) & \n",
    "                                          (df_github_issues.grimoire_creation_date >= g2.grimoire_creation_date - timedelta(days=7)) & (df_github_issues['project'] == i) & (df_github_issues['issue_id_in_repo'] == item['number']) ])\n",
    "                    })"
   ]
  },
  {
   "cell_type": "code",
   "execution_count": 4,
   "id": "c687b418-6008-42d6-975a-f799f9fe46d7",
   "metadata": {},
   "outputs": [],
   "source": [
    "gitter_comments_count_1_week = pd.DataFrame(change_ratio_rows)\n",
    "gitter_comments_count_1_week['ratio'] = gitter_comments_count_1_week['comments_after'] / gitter_comments_count_1_week['comments_before']"
   ]
  },
  {
   "cell_type": "code",
   "execution_count": 6,
   "id": "9e55a085-ee84-49f7-9fed-bdda4673c1c5",
   "metadata": {},
   "outputs": [],
   "source": [
    "gitter_comments_count_1_week.to_csv('gitter_comments_count_1_week.csv', index=False)"
   ]
  },
  {
   "cell_type": "code",
   "execution_count": null,
   "id": "d304ba61-32bd-4cec-a7ba-f902023711f4",
   "metadata": {},
   "outputs": [],
   "source": []
  },
  {
   "cell_type": "code",
   "execution_count": null,
   "id": "0b342b7f-7318-409e-a33f-26873b3471ba",
   "metadata": {},
   "outputs": [],
   "source": []
  }
 ],
 "metadata": {
  "kernelspec": {
   "display_name": "Python 3 (ipykernel)",
   "language": "python",
   "name": "python3"
  },
  "language_info": {
   "codemirror_mode": {
    "name": "ipython",
    "version": 3
   },
   "file_extension": ".py",
   "mimetype": "text/x-python",
   "name": "python",
   "nbconvert_exporter": "python",
   "pygments_lexer": "ipython3",
   "version": "3.9.7"
  }
 },
 "nbformat": 4,
 "nbformat_minor": 5
}
