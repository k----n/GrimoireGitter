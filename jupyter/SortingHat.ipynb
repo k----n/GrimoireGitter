{
 "cells": [
  {
   "cell_type": "code",
   "execution_count": 1,
   "id": "7270f526-7e8a-4721-9f87-30fc36ab276f",
   "metadata": {},
   "outputs": [],
   "source": [
    "import pandas as pd\n",
    "from Levenshtein import distance"
   ]
  },
  {
   "cell_type": "code",
   "execution_count": 2,
   "id": "b85f0561-f936-487e-bc35-a3aa3576be5d",
   "metadata": {},
   "outputs": [],
   "source": [
    "from sqlalchemy import create_engine"
   ]
  },
  {
   "cell_type": "code",
   "execution_count": 3,
   "id": "f38f66c8-dd42-4745-a1ea-2b53ab93dcbf",
   "metadata": {},
   "outputs": [],
   "source": [
    "conn = create_engine('mariadb+mariadbconnector://root@mariadb:3306/sh')"
   ]
  },
  {
   "cell_type": "markdown",
   "id": "6151c8f6-ed65-4b42-9f0c-f37db8cb7a3f",
   "metadata": {},
   "source": [
    "## Sources for SortingHat Identities"
   ]
  },
  {
   "cell_type": "code",
   "execution_count": 4,
   "id": "05187352-6808-429c-96bd-202d69893839",
   "metadata": {},
   "outputs": [
    {
     "data": {
      "text/html": [
       "<div>\n",
       "<style scoped>\n",
       "    .dataframe tbody tr th:only-of-type {\n",
       "        vertical-align: middle;\n",
       "    }\n",
       "\n",
       "    .dataframe tbody tr th {\n",
       "        vertical-align: top;\n",
       "    }\n",
       "\n",
       "    .dataframe thead th {\n",
       "        text-align: right;\n",
       "    }\n",
       "</style>\n",
       "<table border=\"1\" class=\"dataframe\">\n",
       "  <thead>\n",
       "    <tr style=\"text-align: right;\">\n",
       "      <th></th>\n",
       "      <th>source</th>\n",
       "    </tr>\n",
       "  </thead>\n",
       "  <tbody>\n",
       "    <tr>\n",
       "      <th>0</th>\n",
       "      <td>github</td>\n",
       "    </tr>\n",
       "    <tr>\n",
       "      <th>1</th>\n",
       "      <td>github2</td>\n",
       "    </tr>\n",
       "    <tr>\n",
       "      <th>2</th>\n",
       "      <td>gitter</td>\n",
       "    </tr>\n",
       "    <tr>\n",
       "      <th>3</th>\n",
       "      <td>git</td>\n",
       "    </tr>\n",
       "  </tbody>\n",
       "</table>\n",
       "</div>"
      ],
      "text/plain": [
       "    source\n",
       "0   github\n",
       "1  github2\n",
       "2   gitter\n",
       "3      git"
      ]
     },
     "execution_count": 4,
     "metadata": {},
     "output_type": "execute_result"
    }
   ],
   "source": [
    "pd.read_sql(\"SELECT distinct(source) FROM identities\", conn)"
   ]
  },
  {
   "cell_type": "markdown",
   "id": "2f38a466-a228-4293-ad76-4989b42d8b56",
   "metadata": {},
   "source": [
    "# Unmapped Gitter identities"
   ]
  },
  {
   "cell_type": "code",
   "execution_count": 5,
   "id": "89a78bb4-1713-405a-91eb-7f0f31390551",
   "metadata": {},
   "outputs": [],
   "source": [
    "# get merged gitter to github identities\n",
    "mapped_gitter = pd.read_sql(\"\"\"\n",
    "            select distinct(i1.uuid) from identities i1\n",
    "            left join (select * from identities where source='github') i2 on i2.uuid = i1.uuid\n",
    "            left join (select * from identities where source='github2') i3 on i3.uuid = i2.uuid\n",
    "            where i1.source='gitter'\n",
    "            and (i2.uuid is not null or i3.uuid is not null)\n",
    "            \"\"\", conn)['uuid'].values"
   ]
  },
  {
   "cell_type": "code",
   "execution_count": 6,
   "id": "bae9e3de-4a01-4188-8fa3-713899a40580",
   "metadata": {},
   "outputs": [],
   "source": [
    "# identities that have not been mapped to gitter\n",
    "unmapped_gitter = pd.read_sql(\"\"\"\n",
    "            select * from identities where source='gitter'\n",
    "            and uuid not in {}\n",
    "            \"\"\".format(str(tuple(mapped_gitter))), conn)"
   ]
  },
  {
   "cell_type": "markdown",
   "id": "fd8e39e6-120a-4343-a2cf-e6f0886acb7f",
   "metadata": {},
   "source": [
    "# Unmapped Github identities"
   ]
  },
  {
   "cell_type": "code",
   "execution_count": 7,
   "id": "f5e89505-d789-4b4c-9818-d92563c42d34",
   "metadata": {},
   "outputs": [],
   "source": [
    "unmapped_github = pd.read_sql(\"\"\"\n",
    "            SELECT * FROM identities where source in ('github', 'github2') and id=uuid\n",
    "            and uuid not in {}\n",
    "            \"\"\".format(str(tuple(mapped_gitter))), conn)"
   ]
  },
  {
   "cell_type": "markdown",
   "id": "4e3696d9-ea29-4dfb-bb35-8e2268ddd8ed",
   "metadata": {},
   "source": [
    "# Attempt to map unmapped Github and Gitter identities\n",
    "\n",
    "Using Levenshtein distance metric we attempt to match users using combined name and username similarity\n",
    "\n",
    "Note that this a naive implementation and could be possibly improved"
   ]
  },
  {
   "cell_type": "code",
   "execution_count": 8,
   "id": "281b716d-271e-49a7-a608-ab1dc60f2713",
   "metadata": {},
   "outputs": [
    {
     "name": "stdout",
     "output_type": "stream",
     "text": [
      "100 3343\n",
      "754 1189\n",
      "811 835\n",
      "1187 1394\n",
      "2070 149\n",
      "3269 1098\n",
      "3510 305\n",
      "3555 1639\n",
      "3645 1708\n",
      "3669 795\n",
      "4049 2184\n",
      "4791 3586\n"
     ]
    }
   ],
   "source": [
    "potential_matches = []\n",
    "\n",
    "for i1, row1 in unmapped_github[~unmapped_github['uuid'].isin(unmapped_gitter['uuid'].unique())].iterrows():\n",
    "    for i2, row2 in unmapped_gitter[~unmapped_gitter['uuid'].isin(unmapped_github['uuid'].unique())].iterrows():\n",
    "        name_similarity = 1 - (distance(str(row1['name']).lower(), str(row2['name']).lower()) / max(len(str(row1['name'])), len(str(row2['name']))))\n",
    "        username_similarity = 1 - (distance(str(row1['username']).lower(), str(row2['username']).lower()) / max(len(str(row1['username'])), len(str(row2['username']))))\n",
    "        if name_similarity > 0.7 and username_similarity > 0.7 and row1['uuid'] != row2['uuid']:\n",
    "            potential_matches.append({\n",
    "                'name_similarity': name_similarity,\n",
    "                'username_similarity': username_similarity,\n",
    "                'github_row': row1,\n",
    "                'gitter_row': row2\n",
    "            })\n",
    "            \n",
    "            print(i1, i2)"
   ]
  },
  {
   "cell_type": "code",
   "execution_count": 9,
   "id": "c630cb2e-817c-451a-9088-33a4727e8e7f",
   "metadata": {},
   "outputs": [
    {
     "name": "stdout",
     "output_type": "stream",
     "text": [
      "'Brandon Cole' and 'Brandon Couts' have 0.7692307692307692 name similarity\n",
      "'brandoncole' and 'BrandonCouts' have 0.75 username similarity\n",
      "Go to http://localhost:8000/identities/hatstall/edd71d58fa8b3182c5e0aa0ea33b6e6ed8c5773a/ and search for name 'Brandon Cole' / username 'brandoncole' if similar enough\n",
      "\n",
      "\n",
      "'Adrien Grondin' and 'AdrienGrondin' have 0.9285714285714286 name similarity\n",
      "'adrgrondin' and 'AdrienGrondin' have 0.7692307692307692 username similarity\n",
      "Go to http://localhost:8000/identities/hatstall/5470147aea5b00b1cf1dc997375f63a87b5fc6c8/ and search for name 'Adrien Grondin' / username 'adrgrondin' if similar enough\n",
      "\n",
      "\n",
      "'Kris Shinn' and 'Eric Shinn' have 0.8 name similarity\n",
      "'kshinn' and 'eshinn' have 0.8333333333333334 username similarity\n",
      "Go to http://localhost:8000/identities/hatstall/3b9dcb5c6ff10f18bb02875dd40a89bc0fd29dcb/ and search for name 'Kris Shinn' / username 'kshinn' if similar enough\n",
      "\n",
      "\n",
      "'Andrew Revinsky' and 'Andrew Revinsky' have 1.0 name similarity\n",
      "'andrevinsky' and 'AndrewRevinsky' have 0.7857142857142857 username similarity\n",
      "Go to http://localhost:8000/identities/hatstall/6340db1856586d06b36cf58bfc10ffd5df719b90/ and search for name 'Andrew Revinsky' / username 'andrevinsky' if similar enough\n",
      "\n",
      "\n",
      "'Chris Cinelli' and 'Chris Snell' have 0.7692307692307692 name similarity\n",
      "'ChrisCinelli' and 'chrissnell' have 0.75 username similarity\n",
      "Go to http://localhost:8000/identities/hatstall/0ae49b5f7b3fe85341ec4b737470383ce12430eb/ and search for name 'Chris Cinelli' / username 'ChrisCinelli' if similar enough\n",
      "\n",
      "\n",
      "'Taylor Sutton' and 'Taylor Huston' have 0.8461538461538461 name similarity\n",
      "'taylor-sutton' and 'TaylorHuston' have 0.7692307692307692 username similarity\n",
      "Go to http://localhost:8000/identities/hatstall/4e294dff5f4895d22c888ad6ce7419f8a1f65393/ and search for name 'Taylor Sutton' / username 'taylor-sutton' if similar enough\n",
      "\n",
      "\n",
      "'Tabzone' and 'tacone' have 0.7142857142857143 name similarity\n",
      "'tabzone' and 'tacone' have 0.7142857142857143 username similarity\n",
      "Go to http://localhost:8000/identities/hatstall/167b726db611e18d610f765c660f82a0b327eadc/ and search for name 'Tabzone' / username 'tabzone' if similar enough\n",
      "\n",
      "\n",
      "'bentcoder' and 'KenCoder' have 0.7777777777777778 name similarity\n",
      "'bentcoder' and 'KenCoder' have 0.7777777777777778 username similarity\n",
      "Go to http://localhost:8000/identities/hatstall/7571ec238b227012b5180a5a2865353a6c4b851d/ and search for name 'bentcoder' / username 'bentcoder' if similar enough\n",
      "\n",
      "\n",
      "'VISHNU V N' and 'VISHNU VN' have 0.9 name similarity\n",
      "'vishnuvn' and 'vishnuvntcr' have 0.7272727272727273 username similarity\n",
      "Go to http://localhost:8000/identities/hatstall/7bc9cd0ef1aff225d32baffdd05bcc809bfe48bd/ and search for name 'VISHNU V N' / username 'vishnuvn' if similar enough\n",
      "\n",
      "\n",
      "'Francis Ngo' and 'FrancisKong' have 0.7272727272727273 name similarity\n",
      "'francisngo' and 'FrancisKong' have 0.7272727272727273 username similarity\n",
      "Go to http://localhost:8000/identities/hatstall/3796d0379614e6aca5db04b426aaf6c4fbbbe26a/ and search for name 'Francis Ngo' / username 'francisngo' if similar enough\n",
      "\n",
      "\n",
      "'matiaz' and 'maziarz' have 0.7142857142857143 name similarity\n",
      "'matiaz' and 'maziarz' have 0.7142857142857143 username similarity\n",
      "Go to http://localhost:8000/identities/hatstall/9c980c33b5f43479651b740bc287879953803569/ and search for name 'matiaz' / username 'matiaz' if similar enough\n",
      "\n",
      "\n",
      "'Sjoerd' and 'Sjoerd' have 1.0 name similarity\n",
      "'Sjoerd' and 'Sjoerrdd' have 0.75 username similarity\n",
      "Go to http://localhost:8000/identities/hatstall/ff342b7e98869f4963d519b1a28dfe818c4212f6/ and search for name 'Sjoerd' / username 'Sjoerd' if similar enough\n",
      "\n",
      "\n"
     ]
    }
   ],
   "source": [
    "for item in potential_matches:\n",
    "    print(\"'{}' and '{}' have {} name similarity\".format(item['github_row']['name'], item['gitter_row']['name'], item['name_similarity']))\n",
    "    print(\"'{}' and '{}' have {} username similarity\".format(item['github_row']['username'], item['gitter_row']['username'], item['username_similarity']))\n",
    "    print(\"Go to {} and search for name '{}' / username '{}' if similar enough\\n\\n\".format('http://localhost:8000/identities/hatstall/{}/'.format(item['gitter_row']['uuid']), item['github_row']['name'], item['github_row']['username']))"
   ]
  },
  {
   "cell_type": "code",
   "execution_count": null,
   "id": "06dfafb9-3d5e-4b8a-a274-5e067793ec9a",
   "metadata": {},
   "outputs": [],
   "source": []
  }
 ],
 "metadata": {
  "kernelspec": {
   "display_name": "Python 3 (ipykernel)",
   "language": "python",
   "name": "python3"
  },
  "language_info": {
   "codemirror_mode": {
    "name": "ipython",
    "version": 3
   },
   "file_extension": ".py",
   "mimetype": "text/x-python",
   "name": "python",
   "nbconvert_exporter": "python",
   "pygments_lexer": "ipython3",
   "version": "3.9.7"
  }
 },
 "nbformat": 4,
 "nbformat_minor": 5
}
